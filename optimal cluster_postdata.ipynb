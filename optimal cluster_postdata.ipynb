{
 "cells": [
  {
   "cell_type": "code",
   "execution_count": 1,
   "id": "d2ff9120",
   "metadata": {},
   "outputs": [],
   "source": [
    "import pandas as pd\n",
    "import numpy as np\n",
    "from kmodes.kprototypes import KPrototypes\n",
    "from plotnine import *\n",
    "import plotnine\n",
    "import warnings\n",
    "warnings.filterwarnings('ignore',category = FutureWarning)\n",
    "pd.set_option('display.float_format', lambda x: '%.3f' % x)\n",
    "import matplotlib.pyplot as plt\n",
    "import seaborn as sns\n",
    "from kmodes.kmodes import KModes"
   ]
  },
  {
   "cell_type": "code",
   "execution_count": 2,
   "id": "19683e4c",
   "metadata": {},
   "outputs": [
    {
     "name": "stdout",
     "output_type": "stream",
     "text": [
      "Dimension data: 3964 rows & 33 columns\n",
      "Dimension data: 6250 rows & 33 columns\n"
     ]
    }
   ],
   "source": [
    "df4 = pd.read_csv(\"/Users/alishaalex/Desktop/Datasets/cat/category_2020.csv\")\n",
    "df5 = pd.read_csv(\"/Users/alishaalex/Desktop/Datasets/cat/category_2021.csv\")\n",
    "\n",
    "print('Dimension data: {} rows & {} columns'.format(len(df4),len(df4.columns)))\n",
    "print('Dimension data: {} rows & {} columns'.format(len(df5),len(df5.columns)))\n"
   ]
  },
  {
   "cell_type": "code",
   "execution_count": 3,
   "id": "ca636e8a",
   "metadata": {},
   "outputs": [
    {
     "name": "stdout",
     "output_type": "stream",
     "text": [
      "Dimension data: 10214 rows & 33 columns\n"
     ]
    }
   ],
   "source": [
    "dfr = pd.concat([df4, df5], ignore_index=True)\n",
    "print('Dimension data: {} rows & {} columns'.format(len(dfr),len(dfr.columns)))"
   ]
  },
  {
   "cell_type": "code",
   "execution_count": 4,
   "id": "f7f76e67",
   "metadata": {},
   "outputs": [],
   "source": [
    "df_11 = dfr.dropna()"
   ]
  },
  {
   "cell_type": "code",
   "execution_count": 5,
   "id": "f259f131",
   "metadata": {},
   "outputs": [
    {
     "name": "stdout",
     "output_type": "stream",
     "text": [
      "Dimension data: 10214 rows & 33 columns\n"
     ]
    }
   ],
   "source": [
    "print('Dimension data: {} rows & {} columns'.format(len(df_11),len(df_11.columns)))"
   ]
  },
  {
   "cell_type": "code",
   "execution_count": 6,
   "id": "368ff1ee",
   "metadata": {},
   "outputs": [
    {
     "name": "stdout",
     "output_type": "stream",
     "text": [
      "<class 'pandas.core.frame.DataFrame'>\n",
      "RangeIndex: 10214 entries, 0 to 10213\n",
      "Data columns (total 33 columns):\n",
      " #   Column     Non-Null Count  Dtype \n",
      "---  ------     --------------  ----- \n",
      " 0   Rsex       10214 non-null  object\n",
      " 1   ReligSum   10214 non-null  object\n",
      " 2   SupParty   10214 non-null  object\n",
      " 3   ClosePty   10214 non-null  object\n",
      " 4   PartyIDN   10214 non-null  object\n",
      " 5   Politics   10214 non-null  int64 \n",
      " 6   Spend1     10214 non-null  object\n",
      " 7   TaxSpend   10214 non-null  object\n",
      " 8   AnyBN3     10214 non-null  object\n",
      " 9   Dole       10214 non-null  object\n",
      " 10  dolefidl   10214 non-null  int64 \n",
      " 11  sochelp    10214 non-null  int64 \n",
      " 12  welfhelp   10214 non-null  int64 \n",
      " 13  damlives   10214 non-null  int64 \n",
      " 14  proudwlf   10214 non-null  int64 \n",
      " 15  redistrb   10214 non-null  int64 \n",
      " 16  richlaw    10214 non-null  int64 \n",
      " 17  wealth     10214 non-null  int64 \n",
      " 18  Indust4    10214 non-null  int64 \n",
      " 19  BigBusnn   10214 non-null  int64 \n",
      " 20  NatIdGB    10214 non-null  object\n",
      " 21  tradvals   10214 non-null  int64 \n",
      " 22  stifsent   10214 non-null  int64 \n",
      " 23  NHSSat     10214 non-null  object\n",
      " 24  ECPolicy2  10214 non-null  object\n",
      " 25  EURefV2    10214 non-null  object\n",
      " 26  EURefb     10214 non-null  object\n",
      " 27  CovWk1     10214 non-null  int64 \n",
      " 28  CovWk2     10214 non-null  int64 \n",
      " 29  CovWk3     10214 non-null  int64 \n",
      " 30  deathapp   10214 non-null  int64 \n",
      " 31  censor     10214 non-null  int64 \n",
      " 32  wronglaw   10214 non-null  int64 \n",
      "dtypes: int64(19), object(14)\n",
      "memory usage: 2.6+ MB\n"
     ]
    }
   ],
   "source": [
    "df_11.info()"
   ]
  },
  {
   "cell_type": "code",
   "execution_count": 7,
   "id": "e01146df",
   "metadata": {},
   "outputs": [],
   "source": [
    "scale_columns_1 = ['welfhelp','sochelp','dolefidl','damlives','proudwlf','redistrb','BigBusnn','wealth',\n",
    "                 'richlaw','Indust4','tradvals','stifsent','deathapp','censor','wronglaw','CovWk1','CovWk2','CovWk3']\n",
    "values_to_remove = [-1.0, -11.0, 9.0, -2.0,-1,8,8.0]\n",
    "\n",
    "for column in scale_columns_1:\n",
    "    df_11 = df_11[~df_11[column].isin(values_to_remove)]"
   ]
  },
  {
   "cell_type": "code",
   "execution_count": 8,
   "id": "d116fe87",
   "metadata": {},
   "outputs": [
    {
     "name": "stdout",
     "output_type": "stream",
     "text": [
      "Columns with specified values: Index(['Politics'], dtype='object')\n"
     ]
    }
   ],
   "source": [
    "values_to_check_1 = [-1, -1.0, -11.0, 9.0, -2.0]\n",
    "columns_with_values_1 = df_11.columns[df_11.isin(values_to_check_1).any()]\n",
    "print(\"Columns with specified values:\", columns_with_values_1)"
   ]
  },
  {
   "cell_type": "code",
   "execution_count": 9,
   "id": "086e22e2",
   "metadata": {},
   "outputs": [
    {
     "name": "stdout",
     "output_type": "stream",
     "text": [
      "Dimension data: 3882 rows & 33 columns\n"
     ]
    }
   ],
   "source": [
    "print('Dimension data: {} rows & {} columns'.format(len(df_11),len(df_11.columns)))"
   ]
  },
  {
   "cell_type": "code",
   "execution_count": 10,
   "id": "abb567df",
   "metadata": {},
   "outputs": [],
   "source": [
    "kproto_data = df_11.copy()"
   ]
  },
  {
   "cell_type": "markdown",
   "id": "8dd6944f",
   "metadata": {},
   "source": [
    "Silhoutte Score Coefficient"
   ]
  },
  {
   "cell_type": "code",
   "execution_count": 16,
   "id": "8c0a8bac",
   "metadata": {},
   "outputs": [
    {
     "name": "stdout",
     "output_type": "stream",
     "text": [
      "The K : Silhouette scores  {2: 0.17799341916174322, 3: 0.12776478499171806, 4: 0.10414090466642417, 5: 0.0684374443683939, 6: 0.06250370464385432, 7: 0.04765820466711369, 8: 0.0456431278018941, 9: 0.04215728612346691}\n"
     ]
    }
   ],
   "source": [
    "from kmodes.kmodes import KModes\n",
    "from kmodes import kprototypes\n",
    "from sklearn.metrics import silhouette_score\n",
    "import pandas as pd\n",
    "import numpy as np\n",
    "\n",
    "def mixed_distance(a, b, categorical=None, alpha=0.01):\n",
    "    if categorical is None:\n",
    "        num_score = kprototypes.euclidean_dissim(a, b)\n",
    "        return num_score\n",
    "    else:\n",
    "        cat_index = categorical\n",
    "        a_cat = []\n",
    "        b_cat = []\n",
    "        for index in cat_index:\n",
    "            a_cat.append(a[index])\n",
    "            b_cat.append(b[index])\n",
    "        a_num = []\n",
    "        b_num = []\n",
    "        l = len(a)\n",
    "        for index in range(l):\n",
    "            if index not in cat_index:\n",
    "                a_num.append(a[index])\n",
    "                b_num.append(b[index])\n",
    "\n",
    "        a_cat = np.array(a_cat).reshape(1, -1)\n",
    "        a_num = np.array(a_num).reshape(1, -1)\n",
    "        b_cat = np.array(b_cat).reshape(1, -1)\n",
    "        b_num = np.array(b_num).reshape(1, -1)\n",
    "        cat_score = kprototypes.matching_dissim(a_cat, b_cat)\n",
    "        num_score = kprototypes.euclidean_dissim(a_num, b_num)\n",
    "        return cat_score + num_score * alpha\n",
    "\n",
    "def dm_prototypes(dataset, categorical=None, alpha=0.1):\n",
    "    lenDataset = len(dataset)\n",
    "    distance_matrix = np.zeros(lenDataset * lenDataset).reshape(lenDataset, lenDataset)\n",
    "    for i in range(lenDataset):\n",
    "        for j in range(lenDataset):\n",
    "            x1 = dataset[i]\n",
    "            x2 = dataset[j]\n",
    "            distance = mixed_distance(x1, x2, categorical=categorical, alpha=alpha)\n",
    "            distance_matrix[i][j] = distance\n",
    "            distance_matrix[j][i] = distance\n",
    "    return distance_matrix\n",
    "\n",
    "# Load your specific DataFrame\n",
    "# Replace \"YourDataFrame.csv\" with your actual file path\n",
    "df = kproto_data\n",
    "\n",
    "\n",
    "\n",
    "# Convert columns to the appropriate data types\n",
    "# You should specify which columns are categorical and which are numeric\n",
    "categorical_columns = ['Rsex', 'ReligSum', 'SupParty', 'ClosePty', 'PartyIDN', 'Spend1', 'TaxSpend',\n",
    "                       'AnyBN3', 'Dole', 'NatIdGB', 'NHSSat', 'ECPolicy2', 'EURefV2', 'EURefb',]\n",
    "\n",
    "numeric_columns = ['Politics', 'dolefidl', 'sochelp', 'welfhelp', 'damlives', 'proudwlf', 'redistrb',\n",
    "                   'richlaw', 'wealth', 'Indust4', 'BigBusnn', 'deathapp', 'wronglaw', 'censor', 'tradvals', 'stifsent',\n",
    "                  'CovWk1','CovWk2','CovWk3']\n",
    "\n",
    "df[categorical_columns] = df[categorical_columns].astype(str)\n",
    "df[numeric_columns] = df[numeric_columns].astype(float)\n",
    "\n",
    "# Obtain an array of values from the DataFrame\n",
    "data_array = df.values\n",
    "\n",
    "# Specify categorical columns for the K-Prototypes algorithm\n",
    "categorical_indices = [df.columns.get_loc(col) for col in categorical_columns]\n",
    "\n",
    "# Calculate the distance matrix\n",
    "distance_matrix = dm_prototypes(data_array, categorical=categorical_indices, alpha=0.1)\n",
    "\n",
    "# Set the range of K values to test\n",
    "K = range(2, 10)\n",
    "\n",
    "silhouette_scores = dict()\n",
    "\n",
    "# Perform clustering for different values of K\n",
    "for k in K:\n",
    "    untrained_model = kprototypes.KPrototypes(n_clusters=k, max_iter=20)\n",
    "    trained_model = untrained_model.fit(data_array, categorical=categorical_indices)\n",
    "    cluster_labels = trained_model.labels_\n",
    "    score = silhouette_score(distance_matrix, cluster_labels, metric=\"precomputed\")\n",
    "    silhouette_scores[k] = score\n",
    "\n",
    "print(\"The K : Silhouette scores : \", silhouette_scores)\n"
   ]
  },
  {
   "cell_type": "markdown",
   "id": "2fb458f4",
   "metadata": {},
   "source": [
    "Elbow Method"
   ]
  },
  {
   "cell_type": "code",
   "execution_count": 12,
   "id": "98580831",
   "metadata": {},
   "outputs": [],
   "source": [
    "kproto_data_1 = df_11.copy()"
   ]
  },
  {
   "cell_type": "code",
   "execution_count": 13,
   "id": "d7e8f5f4",
   "metadata": {},
   "outputs": [
    {
     "name": "stdout",
     "output_type": "stream",
     "text": [
      "Categorical columns           : ['Rsex', 'ReligSum', 'SupParty', 'ClosePty', 'PartyIDN', 'Spend1', 'TaxSpend', 'AnyBN3', 'Dole', 'NatIdGB', 'NHSSat', 'ECPolicy2', 'EURefV2', 'EURefb']\n",
      "Categorical columns position  : [0, 1, 2, 3, 4, 6, 7, 8, 9, 20, 23, 24, 25, 26]\n"
     ]
    }
   ],
   "source": [
    "catColumnsPos = [kproto_data_1.columns.get_loc(col) for col in list(kproto_data_1.select_dtypes('object').columns)]\n",
    "print('Categorical columns           : {}'.format(list(kproto_data_1.select_dtypes('object').columns)))\n",
    "print('Categorical columns position  : {}'.format(catColumnsPos))"
   ]
  },
  {
   "cell_type": "code",
   "execution_count": 14,
   "id": "84b88087",
   "metadata": {},
   "outputs": [
    {
     "data": {
      "text/plain": [
       "array([['Male', 'Other Christian', ' No', ..., 2, 2, 2],\n",
       "       ['Female', 'No religion', ' No', ..., 3, 2, 4],\n",
       "       ['Male', 'Other Christian', 'Yes', ..., 1, 1, 3],\n",
       "       ...,\n",
       "       ['Female', 'Other Christian', ' No', ..., 4, 3, 3],\n",
       "       ['Male', 'Other Christian', ' No', ..., 4, 4, 3],\n",
       "       ['Female', 'No religion', ' No', ..., 4, 3, 4]], dtype=object)"
      ]
     },
     "execution_count": 14,
     "metadata": {},
     "output_type": "execute_result"
    }
   ],
   "source": [
    "dfMatrix_1 = kproto_data_1.to_numpy()\n",
    "dfMatrix_1"
   ]
  },
  {
   "cell_type": "code",
   "execution_count": 15,
   "id": "f56f0a0a",
   "metadata": {},
   "outputs": [
    {
     "name": "stdout",
     "output_type": "stream",
     "text": [
      "Cluster initiation: 1\n",
      "Cluster initiation: 2\n",
      "Cluster initiation: 3\n",
      "Cluster initiation: 4\n",
      "Cluster initiation: 5\n",
      "Cluster initiation: 6\n",
      "Cluster initiation: 7\n",
      "Cluster initiation: 8\n",
      "Cluster initiation: 9\n"
     ]
    },
    {
     "data": {
      "image/png": "[encoded data removed]",
      "text/plain": [
       "<Figure size 800x480 with 1 Axes>"
      ]
     },
     "metadata": {
      "image/png": {
       "height": 480,
       "width": 800
      },
      "needs_background": "light"
     },
     "output_type": "display_data"
    },
    {
     "data": {
      "text/plain": [
       "<Figure Size: (800 x 480)>"
      ]
     },
     "execution_count": 15,
     "metadata": {},
     "output_type": "execute_result"
    }
   ],
   "source": [
    "cost = []\n",
    "for cluster in range(1, 10):\n",
    "    try:\n",
    "        kprototype = KPrototypes(n_jobs=-1, n_clusters=cluster, init='Huang', random_state=0)\n",
    "        cluster_assignments = kprototype.fit_predict(dfMatrix_1, categorical=catColumnsPos)\n",
    "        cost.append(kprototype.cost_)\n",
    "        print('Cluster initiation: {}'.format(cluster))\n",
    "    except:\n",
    "        break\n",
    "\n",
    "# Converting the results into a dataframe and plotting them\n",
    "df_cost = pd.DataFrame({'Cluster': range(1, 10), 'Cost': cost})\n",
    "\n",
    "# Data viz\n",
    "plotnine.options.figure_size = (8, 4.8)\n",
    "(\n",
    "    ggplot(data=df_cost) +\n",
    "    geom_line(aes(x='Cluster', y='Cost')) +\n",
    "    geom_point(aes(x='Cluster', y='Cost')) +\n",
    "    geom_label(aes(x='Cluster', y='Cost', label='Cluster'), size=10, nudge_y=1000) +\n",
    "    labs(title='Optimal number of cluster with Elbow Method') +\n",
    "    xlab('Number of Clusters k') +\n",
    "    ylab('Cost') +\n",
    "    theme_minimal()\n",
    ")"
   ]
  },
  {
   "cell_type": "code",
   "execution_count": null,
   "id": "9249b209",
   "metadata": {},
   "outputs": [],
   "source": []
  }
 ],
 "metadata": {
  "kernelspec": {
   "display_name": "Python 3 (ipykernel)",
   "language": "python",
   "name": "python3"
  },
  "language_info": {
   "codemirror_mode": {
    "name": "ipython",
    "version": 3
   },
   "file_extension": ".py",
   "mimetype": "text/x-python",
   "name": "python",
   "nbconvert_exporter": "python",
   "pygments_lexer": "ipython3",
   "version": "3.9.13"
  }
 },
 "nbformat": 4,
 "nbformat_minor": 5
}
